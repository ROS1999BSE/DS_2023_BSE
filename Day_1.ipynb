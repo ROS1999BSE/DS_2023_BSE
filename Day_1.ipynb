{
 "cells": [
  {
   "cell_type": "code",
   "execution_count": 6,
   "id": "c27e3cf7",
   "metadata": {},
   "outputs": [
    {
     "name": "stdout",
     "output_type": "stream",
     "text": [
      "Hello\n"
     ]
    }
   ],
   "source": [
    "print(\"Hello\")"
   ]
  },
  {
   "cell_type": "markdown",
   "id": "c1de6242",
   "metadata": {},
   "source": []
  },
  {
   "cell_type": "code",
   "execution_count": 8,
   "id": "bb9c3886",
   "metadata": {},
   "outputs": [],
   "source": [
    "a=11"
   ]
  },
  {
   "cell_type": "code",
   "execution_count": 9,
   "id": "80360396",
   "metadata": {},
   "outputs": [
    {
     "data": {
      "text/plain": [
       "12"
      ]
     },
     "execution_count": 9,
     "metadata": {},
     "output_type": "execute_result"
    }
   ],
   "source": [
    "a+1"
   ]
  },
  {
   "cell_type": "code",
   "execution_count": 12,
   "id": "c68d91c4",
   "metadata": {},
   "outputs": [],
   "source": [
    "a=+1"
   ]
  },
  {
   "cell_type": "code",
   "execution_count": 17,
   "id": "51e4c66e",
   "metadata": {},
   "outputs": [
    {
     "data": {
      "text/plain": [
       "3"
      ]
     },
     "execution_count": 17,
     "metadata": {},
     "output_type": "execute_result"
    }
   ],
   "source": [
    "len(\"BSE\")"
   ]
  },
  {
   "cell_type": "code",
   "execution_count": 21,
   "id": "156fdbe5",
   "metadata": {},
   "outputs": [
    {
     "data": {
      "text/plain": [
       "'15 divided by 2 is 7.50, and it is True that this is greater than 2'"
      ]
     },
     "execution_count": 21,
     "metadata": {},
     "output_type": "execute_result"
    }
   ],
   "source": [
    "a=15\n",
    "b=2\n",
    "c=2\n",
    "'%i divided by %i is %.2f, and it is %s that this is greater than %i' % (a, b , a/b, (a/b)>c,c) #old way to format"
   ]
  },
  {
   "cell_type": "code",
   "execution_count": 23,
   "id": "5a9fce04",
   "metadata": {},
   "outputs": [
    {
     "data": {
      "text/plain": [
       "'15 divided by 2 is 7.50 and it is True that this is greater than 2'"
      ]
     },
     "execution_count": 23,
     "metadata": {},
     "output_type": "execute_result"
    }
   ],
   "source": [
    "f'{a} divided by {b} is {a/b:.2f} and it is {(a/b)>c} that this is greater than {c}'  #so you just put a comma at end\n",
    "#this is the new format"
   ]
  },
  {
   "cell_type": "code",
   "execution_count": null,
   "id": "55231753",
   "metadata": {},
   "outputs": [],
   "source": []
  }
 ],
 "metadata": {
  "kernelspec": {
   "display_name": "Python 3 (ipykernel)",
   "language": "python",
   "name": "python3"
  },
  "language_info": {
   "codemirror_mode": {
    "name": "ipython",
    "version": 3
   },
   "file_extension": ".py",
   "mimetype": "text/x-python",
   "name": "python",
   "nbconvert_exporter": "python",
   "pygments_lexer": "ipython3",
   "version": "3.11.5"
  }
 },
 "nbformat": 4,
 "nbformat_minor": 5
}
