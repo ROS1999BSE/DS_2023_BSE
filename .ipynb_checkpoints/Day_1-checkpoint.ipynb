{
 "cells": [
  {
   "cell_type": "code",
   "execution_count": 6,
   "id": "c27e3cf7",
   "metadata": {},
   "outputs": [
    {
     "name": "stdout",
     "output_type": "stream",
     "text": [
      "Hello\n"
     ]
    }
   ],
   "source": [
    "print(\"Hello\")"
   ]
  },
  {
   "cell_type": "markdown",
   "id": "c1de6242",
   "metadata": {},
   "source": []
  },
  {
   "cell_type": "code",
   "execution_count": 8,
   "id": "bb9c3886",
   "metadata": {},
   "outputs": [],
   "source": [
    "a=11"
   ]
  },
  {
   "cell_type": "code",
   "execution_count": 9,
   "id": "80360396",
   "metadata": {},
   "outputs": [
    {
     "data": {
      "text/plain": [
       "12"
      ]
     },
     "execution_count": 9,
     "metadata": {},
     "output_type": "execute_result"
    }
   ],
   "source": [
    "a+1"
   ]
  },
  {
   "cell_type": "code",
   "execution_count": 12,
   "id": "c68d91c4",
   "metadata": {},
   "outputs": [],
   "source": [
    "a=+1"
   ]
  },
  {
   "cell_type": "code",
   "execution_count": 17,
   "id": "58effec1",
   "metadata": {},
   "outputs": [
    {
     "data": {
      "text/plain": [
       "3"
      ]
     },
     "execution_count": 17,
     "metadata": {},
     "output_type": "execute_result"
    }
   ],
   "source": [
    "len(\"BSE\")"
   ]
  },
  {
   "cell_type": "code",
   "execution_count": 12,
   "id": "d5c9fbfb",
   "metadata": {},
   "outputs": [
    {
     "data": {
      "text/plain": [
       "'15 divided by 2 is 7.50, and it is True that this is greater than 2'"
      ]
     },
     "execution_count": 12,
     "metadata": {},
     "output_type": "execute_result"
    }
   ],
   "source": [
    "a=15\n",
    "b=2\n",
    "c=2\n",
    "'%i divided by %i is %.2f, and it is %s that this is greater than %i' % (a, b , a/b, (a/b)>c,c) #old way to format"
   ]
  },
  {
   "cell_type": "code",
   "execution_count": 21,
   "id": "ac7fc8b4",
   "metadata": {},
   "outputs": [
    {
     "data": {
      "text/plain": [
       "'15 divided by 2 is 7.50 and it is True that this is greater than 2'"
      ]
     },
     "execution_count": 21,
     "metadata": {},
     "output_type": "execute_result"
    }
   ],
   "source": [
    "f'{a} divided by {b} is {a/b:.2f} and it is {(a/b)>c} that this is greater than {c}'  #so you just put a comma at end\n",
    "#this is the new format"
   ]
  },
  {
   "cell_type": "code",
   "execution_count": 17,
   "id": "f665eabf",
   "metadata": {
    "scrolled": false
   },
   "outputs": [
    {
     "ename": "SyntaxError",
     "evalue": "unterminated string literal (detected at line 1) (1982399064.py, line 1)",
     "output_type": "error",
     "traceback": [
      "\u001b[1;36m  Cell \u001b[1;32mIn[17], line 1\u001b[1;36m\u001b[0m\n\u001b[1;33m    hello {a} working'\u001b[0m\n\u001b[1;37m                     ^\u001b[0m\n\u001b[1;31mSyntaxError\u001b[0m\u001b[1;31m:\u001b[0m unterminated string literal (detected at line 1)\n"
     ]
    }
   ],
   "source": []
  },
  {
   "cell_type": "code",
   "execution_count": 26,
   "id": "7aa2840a",
   "metadata": {},
   "outputs": [
    {
     "data": {
      "text/plain": [
       "True"
      ]
     },
     "execution_count": 26,
     "metadata": {},
     "output_type": "execute_result"
    }
   ],
   "source": [
    "x=10\n",
    "y=x!=8\n",
    "y"
   ]
  },
  {
   "cell_type": "code",
   "execution_count": 1,
   "id": "0dd5d126",
   "metadata": {},
   "outputs": [
    {
     "name": "stdout",
     "output_type": "stream",
     "text": [
      "Woman\n"
     ]
    }
   ],
   "source": [
    "gender = 'female'\n",
    "age = 20\n",
    "\n",
    "if gender == \"female\":\n",
    "    if age>=18:\n",
    "        print(\"Woman\")\n",
    "    else:\n",
    "        print (\"Girl\")\n",
    "        \n",
    "elif gender == (\"male\"):\n",
    "    if age>=18:\n",
    "        print(\"man\")\n",
    "    else:\n",
    "        print(\"boy\")\n",
    "        \n",
    "else:\n",
    "    print(gender)\n",
    "    "
   ]
  },
  {
   "cell_type": "code",
   "execution_count": 2,
   "id": "5e76b9aa",
   "metadata": {},
   "outputs": [
    {
     "name": "stdout",
     "output_type": "stream",
     "text": [
      "high\n"
     ]
    }
   ],
   "source": [
    "#Question 1 intropython\n",
    "x=9\n",
    "if x>5:\n",
    "    print(\"high\")\n",
    "elif x<5:\n",
    "    print(\"low\")\n",
    "    \n",
    "else:\n",
    "    print(\"error\")"
   ]
  },
  {
   "cell_type": "code",
   "execution_count": 25,
   "id": "318fd565",
   "metadata": {},
   "outputs": [
    {
     "name": "stdout",
     "output_type": "stream",
     "text": [
      "The age is 1\n",
      "The age is 2\n",
      "The age is 5\n",
      "The age is 10\n",
      "Not an age\n"
     ]
    }
   ],
   "source": [
    "ages = [1,2,5,10,None]\n",
    "\n",
    "type(ages[1])\n",
    "\n",
    "for x in ages:\n",
    "    if type(x)==int:\n",
    "        print('The age is %i' % x) #need to use f' to start...\n",
    "              \n",
    "    else:\n",
    "              print('Not an age')\n"
   ]
  },
  {
   "cell_type": "code",
   "execution_count": 51,
   "id": "d3024ce9",
   "metadata": {},
   "outputs": [
    {
     "data": {
      "text/plain": [
       "[1, 2, 5, 10, 99, 34]"
      ]
     },
     "execution_count": 51,
     "metadata": {},
     "output_type": "execute_result"
    }
   ],
   "source": [
    "ages = [1,2,5,10,None]\n",
    "ages.pop() #removes the last element\n",
    "ages\n",
    "new_ages = [99,34]\n",
    "ages = ages + new_ages\n",
    "ages"
   ]
  },
  {
   "cell_type": "code",
   "execution_count": 56,
   "id": "bc282b42",
   "metadata": {},
   "outputs": [
    {
     "data": {
      "text/plain": [
       "1"
      ]
     },
     "execution_count": 56,
     "metadata": {},
     "output_type": "execute_result"
    }
   ],
   "source": [
    "sum(ages) #could do less succintly using for loop\n",
    "\n",
    "min(ages)#finds min"
   ]
  },
  {
   "cell_type": "code",
   "execution_count": 55,
   "id": "8abdd251",
   "metadata": {},
   "outputs": [
    {
     "data": {
      "text/plain": [
       "[1, 4, 25, 100, 9801, 1156]"
      ]
     },
     "execution_count": 55,
     "metadata": {},
     "output_type": "execute_result"
    }
   ],
   "source": [
    "squared_nums = [x**2 for x in ages]\n",
    "squared_nums\n",
    "\n",
    "#best way can basically stick for loop into defintion\n",
    "\n"
   ]
  },
  {
   "cell_type": "code",
   "execution_count": 59,
   "id": "2a61ee51",
   "metadata": {},
   "outputs": [
    {
     "data": {
      "text/plain": [
       "[1, 4, 25, 100]"
      ]
     },
     "execution_count": 59,
     "metadata": {},
     "output_type": "execute_result"
    }
   ],
   "source": [
    "filtered_squares = [x for x in squared_nums if x<=100 ] #also with an if fxn\n",
    "filtered_squares"
   ]
  },
  {
   "cell_type": "code",
   "execution_count": 60,
   "id": "807657da",
   "metadata": {},
   "outputs": [
    {
     "data": {
      "text/plain": [
       "NoneType"
      ]
     },
     "execution_count": 60,
     "metadata": {},
     "output_type": "execute_result"
    }
   ],
   "source": [
    "nums = [30, None, 4, 45, None, 98]\n",
    "\n"
   ]
  },
  {
   "cell_type": "code",
   "execution_count": 63,
   "id": "4e6995a2",
   "metadata": {},
   "outputs": [
    {
     "data": {
      "text/plain": [
       "'BSE'"
      ]
     },
     "execution_count": 63,
     "metadata": {},
     "output_type": "execute_result"
    }
   ],
   "source": [
    "#can use tuples which are different to lists\n",
    "my_tuple = (\"BSE\", 10)  #tuples are different as they are fixed lenght, cant change without recreating\n",
    "\n",
    "name, num = my_tuple\n",
    "#an advantage is being able to destructure i.e pull out elements"
   ]
  },
  {
   "cell_type": "code",
   "execution_count": 72,
   "id": "d2dc24f6",
   "metadata": {},
   "outputs": [
    {
     "name": "stdout",
     "output_type": "stream",
     "text": [
      "Anna's score was 100\n",
      "Jim's score was 71\n",
      "Bob's score was 87\n"
     ]
    }
   ],
   "source": [
    "scoreboard = {(\"Anna\", 100),(\"Bob\", 87), (\"Jim\",71)}\n",
    "for name, score in scoreboard:\n",
    "    print(f\"{name}'s score was {score}\") #note have to use double commas\n"
   ]
  },
  {
   "cell_type": "code",
   "execution_count": 74,
   "id": "f59bc60c",
   "metadata": {},
   "outputs": [
    {
     "data": {
      "text/plain": [
       "-inf"
      ]
     },
     "execution_count": 74,
     "metadata": {},
     "output_type": "execute_result"
    }
   ],
   "source": [
    "#infinity\n",
    "\n",
    "import math\n",
    "-math.inf"
   ]
  },
  {
   "cell_type": "code",
   "execution_count": 77,
   "id": "4859f27d",
   "metadata": {},
   "outputs": [
    {
     "data": {
      "text/plain": [
       "'Bob'"
      ]
     },
     "execution_count": 77,
     "metadata": {},
     "output_type": "execute_result"
    }
   ],
   "source": [
    "#if our data is more complicated than a pair, triple etc\n",
    "#and the position doesnt matter (ie order doesnt matter) then we can use a dictionary\n",
    "\n",
    "player = {\"name\": \"Bob\", \"score\": 100}\n",
    "\n",
    "player[\"name\"]\n"
   ]
  },
  {
   "cell_type": "code",
   "execution_count": 79,
   "id": "014f407b",
   "metadata": {},
   "outputs": [
    {
     "data": {
      "text/plain": [
       "'Bobby'"
      ]
     },
     "execution_count": 79,
     "metadata": {},
     "output_type": "execute_result"
    }
   ],
   "source": [
    "#can modify\n",
    "player[\"name\"] = \"Bobby\"\n",
    "player[\"name\"]\n",
    "\n",
    "\n",
    "#note cant do like player[0] do get first entry as order doesnt matter"
   ]
  },
  {
   "cell_type": "raw",
   "id": "bc78ebb1",
   "metadata": {},
   "source": []
  },
  {
   "cell_type": "code",
   "execution_count": null,
   "id": "90628729",
   "metadata": {},
   "outputs": [],
   "source": [
    "#example in notes but you can make a list of dictionaries "
   ]
  },
  {
   "cell_type": "code",
   "execution_count": 81,
   "id": "15f04e53",
   "metadata": {},
   "outputs": [
    {
     "data": {
      "text/plain": [
       "__main__.MySimpleClass"
      ]
     },
     "execution_count": 81,
     "metadata": {},
     "output_type": "execute_result"
    }
   ],
   "source": [
    "#can make new classes, ie new type of object (int, NoneType etc...)\n",
    "\n",
    "class MySimpleClass:\n",
    "    pass #doesnt do anything used as placeholder\n",
    "\n",
    "class_1 = MySimpleClass()\n",
    "type(class_1) #so class_1 is an instance of the type MySimpleClass"
   ]
  }
 ],
 "metadata": {
  "kernelspec": {
   "display_name": "Python 3 (ipykernel)",
   "language": "python",
   "name": "python3"
  },
  "language_info": {
   "codemirror_mode": {
    "name": "ipython",
    "version": 3
   },
   "file_extension": ".py",
   "mimetype": "text/x-python",
   "name": "python",
   "nbconvert_exporter": "python",
   "pygments_lexer": "ipython3",
   "version": "3.11.5"
  }
 },
 "nbformat": 4,
 "nbformat_minor": 5
}
